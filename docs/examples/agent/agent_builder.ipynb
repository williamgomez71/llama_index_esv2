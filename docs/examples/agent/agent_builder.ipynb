{
 "cells": [
  {
   "cell_type": "markdown",
   "id": "91c0b9fd-213a-4da8-b84b-c766b424716c",
   "metadata": {},
   "source": [
    "# GPT Builder Demo\n",
    "\n",
    "<a href=\"https://colab.research.google.com/github/run-llama/llama_index/blob/main/docs/examples/agent/agent_builder.ipynb\" target=\"_parent\"><img src=\"https://colab.research.google.com/assets/colab-badge.svg\" alt=\"Open In Colab\"/></a>\n",
    "\n",
    "Inspired by GPTs interface, presented at OpenAI Dev Day 2023. Construct an agent with natural language.\n",
    "\n",
    "Here you can build your own agent...with another agent!"
   ]
  },
  {
   "cell_type": "code",
   "execution_count": null,
   "id": "08081fca-0274-42ae-a777-4b66d36d691c",
   "metadata": {},
   "outputs": [],
   "source": [
    "from llama_index.tools import BaseTool, FunctionTool"
   ]
  },
  {
   "cell_type": "code",
   "execution_count": null,
   "id": "53aedfc0-4449-4cb7-bce8-406db7992721",
   "metadata": {},
   "outputs": [],
   "source": [
    "from llama_index.agent import OpenAIAgent\n",
    "from llama_index.prompts import PromptTemplate\n",
    "from llama_index.llms import ChatMessage, OpenAI\n",
    "from llama_index import ServiceContext"
   ]
  },
  {
   "cell_type": "code",
   "execution_count": null,
   "id": "0b6d7505-d582-465e-b86c-eaf2cf8c28f8",
   "metadata": {},
   "outputs": [],
   "source": [
    "llm = OpenAI(model=\"gpt-4\")\n",
    "service_context = ServiceContext.from_defaults(llm=llm)"
   ]
  },
  {
   "cell_type": "markdown",
   "id": "839cb488-912e-4a34-88a4-98c751798fcc",
   "metadata": {},
   "source": [
    "## Define Candidate Tools\n",
    "\n",
    "We also define a tool retriever to retrieve candidate tools.\n",
    "\n",
    "In this setting we define tools as different Wikipedia pages."
   ]
  },
  {
   "cell_type": "code",
   "execution_count": null,
   "id": "bc91fd57-a681-4c18-991c-6f011d180dea",
   "metadata": {},
   "outputs": [],
   "source": [
    "from llama_index import SimpleDirectoryReader"
   ]
  },
  {
   "cell_type": "code",
   "execution_count": null,
   "id": "50797099-bff6-40f8-b245-62a80b07e7db",
   "metadata": {},
   "outputs": [],
   "source": [
    "wiki_titles = [\"Toronto\", \"Seattle\", \"Chicago\", \"Boston\", \"Houston\"]"
   ]
  },
  {
   "cell_type": "code",
   "execution_count": null,
   "id": "c5aba2fc-9bde-44e7-8a69-8a25ffa8de73",
   "metadata": {},
   "outputs": [],
   "source": [
    "from pathlib import Path\n",
    "\n",
    "import requests\n",
    "\n",
    "for title in wiki_titles:\n",
    "    response = requests.get(\n",
    "        \"https://en.wikipedia.org/w/api.php\",\n",
    "        params={\n",
    "            \"action\": \"query\",\n",
    "            \"format\": \"json\",\n",
    "            \"titles\": title,\n",
    "            \"prop\": \"extracts\",\n",
    "            # 'exintro': True,\n",
    "            \"explaintext\": True,\n",
    "        },\n",
    "    ).json()\n",
    "    page = next(iter(response[\"query\"][\"pages\"].values()))\n",
    "    wiki_text = page[\"extract\"]\n",
    "\n",
    "    data_path = Path(\"data\")\n",
    "    if not data_path.exists():\n",
    "        Path.mkdir(data_path)\n",
    "\n",
    "    with open(data_path / f\"{title}.txt\", \"w\") as fp:\n",
    "        fp.write(wiki_text)"
   ]
  },
  {
   "cell_type": "code",
   "execution_count": null,
   "id": "a034ebf2-4a31-488b-bfbf-777dbc768426",
   "metadata": {},
   "outputs": [],
   "source": [
    "# Load all wiki documents\n",
    "city_docs = {}\n",
    "for wiki_title in wiki_titles:\n",
    "    city_docs[wiki_title] = SimpleDirectoryReader(\n",
    "        input_files=[f\"data/{wiki_title}.txt\"]\n",
    "    ).load_data()"
   ]
  },
  {
   "cell_type": "markdown",
   "id": "96ccd68b-45fe-43aa-a209-b2fd5d2aa75d",
   "metadata": {},
   "source": [
    "### Build Query Tool for Each Document"
   ]
  },
  {
   "cell_type": "code",
   "execution_count": null,
   "id": "cc9e8634-18e3-4762-8e9e-792a5ce8e934",
   "metadata": {},
   "outputs": [],
   "source": [
    "from llama_index.agent import OpenAIAgent\n",
    "from llama_index.tools import QueryEngineTool, ToolMetadata\n",
    "\n",
    "# Build tool dictionary\n",
    "tool_dict = {}\n",
    "\n",
    "for wiki_title in wiki_titles:\n",
    "    # build vector index\n",
    "    vector_index = VectorStoreIndex.from_documents(\n",
    "        city_docs[wiki_title], service_context=service_context\n",
    "    )\n",
    "    # define query engines\n",
    "    vector_query_engine = vector_index.as_query_engine()\n",
    "\n",
    "    # define tools\n",
    "    vector_tool = QueryEngineTool(\n",
    "        query_engine=vector_query_engine,\n",
    "        metadata=ToolMetadata(\n",
    "            name=wiki_title,\n",
    "            description=(\"Useful for questions related to\" f\" {wiki_title}\"),\n",
    "        ),\n",
    "    )\n",
    "    tool_dict[wiki_title] = vector_tool"
   ]
  },
  {
   "cell_type": "markdown",
   "id": "9d2a3aeb-11ee-4dd2-aabb-d148213e234a",
   "metadata": {},
   "source": [
    "### Define Tool Retriever"
   ]
  },
  {
   "cell_type": "code",
   "execution_count": null,
   "id": "70d41c03-4110-4990-990b-7a3d706c0c84",
   "metadata": {},
   "outputs": [],
   "source": [
    "# define an \"object\" index and retriever over these tools\n",
    "from llama_index import VectorStoreIndex\n",
    "from llama_index.objects import ObjectIndex, SimpleToolNodeMapping\n",
    "\n",
    "tool_mapping = SimpleToolNodeMapping.from_objects(list(tool_dict.values()))\n",
    "tool_index = ObjectIndex.from_objects(\n",
    "    list(tool_dict.values()),\n",
    "    tool_mapping,\n",
    "    VectorStoreIndex,\n",
    ")\n",
    "tool_retriever = tool_index.as_retriever(similarity_top_k=1)"
   ]
  },
  {
   "cell_type": "markdown",
   "id": "1642f27f-457a-4cd7-b543-9f81a04a42da",
   "metadata": {},
   "source": [
    "### Load Data\n",
    "\n",
    "Here we load wikipedia pages from different cities."
   ]
  },
  {
   "cell_type": "markdown",
   "id": "063cc9a7-d74c-4e08-9110-a63e11841d7f",
   "metadata": {},
   "source": [
    "## Define Meta-Tools for GPT Builder"
   ]
  },
  {
   "cell_type": "code",
   "execution_count": null,
   "id": "4d76c29b-4b24-4d47-bd1e-027af9427f6c",
   "metadata": {},
   "outputs": [],
   "source": [
    "from llama_index.prompts import ChatPromptTemplate\n",
    "from typing import List\n",
    "\n",
    "GEN_SYS_PROMPT_STR = \"\"\"\\\n",
    "Task information is given below. \n",
    "\n",
    "Given the task, please generate a system prompt for an OpenAI-powered bot to solve this task: \n",
    "{task} \\\n",
    "\"\"\"\n",
    "\n",
    "gen_sys_prompt_messages = [\n",
    "    ChatMessage(\n",
    "        role=\"system\",\n",
    "        content=\"You are helping to build a system prompt for another bot.\",\n",
    "    ),\n",
    "    ChatMessage(role=\"user\", content=GEN_SYS_PROMPT_STR),\n",
    "]\n",
    "\n",
    "GEN_SYS_PROMPT_TMPL = ChatPromptTemplate(gen_sys_prompt_messages)\n",
    "\n",
    "\n",
    "agent_cache = {}\n",
    "\n",
    "\n",
    "def create_system_prompt(task: str):\n",
    "    \"\"\"Create system prompt for another agent given an input task.\"\"\"\n",
    "    llm = OpenAI(llm=\"gpt-4\")\n",
    "    fmt_messages = GEN_SYS_PROMPT_TMPL.format_messages(task=task)\n",
    "    response = llm.chat(fmt_messages)\n",
    "    return response.message.content\n",
    "\n",
    "\n",
    "def get_tools(task: str):\n",
    "    \"\"\"Get the set of relevant tools to use given an input task.\"\"\"\n",
    "    subset_tools = tool_retriever.retrieve(task)\n",
    "    return [t.metadata.name for t in subset_tools]\n",
    "\n",
    "\n",
    "def create_agent(system_prompt: str, tool_names: List[str]):\n",
    "    \"\"\"Create an agent given a system prompt and an input set of tools.\"\"\"\n",
    "    llm = OpenAI(model=\"gpt-4\")\n",
    "    try:\n",
    "        # get the list of tools\n",
    "        input_tools = [tool_dict[tn] for tn in tool_names]\n",
    "\n",
    "        agent = OpenAIAgent.from_tools(input_tools, llm=llm, verbose=True)\n",
    "        agent_cache[\"agent\"] = agent\n",
    "        return_msg = \"Agent created successfully.\"\n",
    "    except Exception as e:\n",
    "        return_msg = f\"An error occurred when building an agent. Here is the error: {repr(e)}\"\n",
    "    return return_msg"
   ]
  },
  {
   "cell_type": "code",
   "execution_count": null,
   "id": "02ebe043-73f1-4f09-88e1-011ceb4ed05d",
   "metadata": {},
   "outputs": [],
   "source": [
    "system_prompt_tool = FunctionTool.from_defaults(fn=create_system_prompt)\n",
    "get_tools_tool = FunctionTool.from_defaults(fn=get_tools)\n",
    "create_agent_tool = FunctionTool.from_defaults(fn=create_agent)"
   ]
  },
  {
   "cell_type": "code",
   "execution_count": null,
   "id": "c42842b3-438e-484e-9598-ad7dc7e2de09",
   "metadata": {},
   "outputs": [],
   "source": [
    "GPT_BUILDER_SYS_STR = \"\"\"\\\n",
    "You are helping to construct an agent given a user-specified task. You should generally use the tools in this order to build the agent.\n",
    "\n",
    "1) Create system prompt tool: to create the system prompt for the agent.\n",
    "2) Get tools tool: to fetch the candidate set of tools to use.\n",
    "3) Create agent tool: to create the final agent.\n",
    "\"\"\"\n",
    "\n",
    "prefix_msgs = [ChatMessage(role=\"system\", content=GPT_BUILDER_SYS_STR)]\n",
    "\n",
    "\n",
    "builder_agent = OpenAIAgent.from_tools(\n",
    "    tools=[system_prompt_tool, get_tools_tool, create_agent_tool],\n",
    "    llm=llm,\n",
    "    prefix_messages=prefix_msgs,\n",
    "    verbose=True,\n",
    ")"
   ]
  },
  {
   "cell_type": "code",
   "execution_count": null,
   "id": "7e135c1a-fcd5-40bc-b92a-5c1ad6ad9a50",
   "metadata": {},
   "outputs": [
    {
     "name": "stdout",
     "output_type": "stream",
     "text": [
      "=== Calling Function ===\n",
      "Calling function: create_system_prompt with args: {\n",
      "  \"task\": \"tell me about Toronto\"\n",
      "}\n",
      "Got output: System Prompt: \n",
      "\n",
      "\"Sure, I can provide you with information about Toronto. Toronto is the capital city of the province of Ontario, Canada. It is the largest city in Canada and one of the most multicultural cities in the world. Known for its diverse population, vibrant arts scene, and thriving business community, Toronto offers a wide range of attractions and experiences.\n",
      "\n",
      "Toronto is home to iconic landmarks such as the CN Tower, which offers breathtaking views of the city, and the Royal Ontario Museum, which houses an extensive collection of art, culture, and natural history. The city also boasts beautiful waterfront areas, including the Harbourfront Centre and the Toronto Islands, where visitors can enjoy outdoor activities and scenic views.\n",
      "\n",
      "In terms of culture, Toronto hosts numerous festivals throughout the year, including the Toronto International Film Festival, Caribana, and Nuit Blanche. The city is also known for its world-class dining scene, offering a diverse range of cuisines from around the globe.\n",
      "\n",
      "Toronto is a major economic hub, with a strong presence in industries such as finance, technology, and healthcare. It is home to the Toronto Stock Exchange and several multinational corporations. The city's robust public transportation system, including the TTC subway and streetcar network, makes it easy to navigate and explore.\n",
      "\n",
      "Whether you're interested in exploring its cultural attractions, enjoying its culinary delights, or experiencing its vibrant nightlife, Toronto has something to offer for everyone. How can I assist you further in discovering more about Toronto?\"\n",
      "========================\n",
      "=== Calling Function ===\n",
      "Calling function: get_tools with args: {\n",
      "  \"task\": \"tell me about Toronto\"\n",
      "}\n",
      "Got output: ['Toronto']\n",
      "========================\n",
      "=== Calling Function ===\n",
      "Calling function: create_agent with args: {\n",
      "  \"system_prompt\": \"Sure, I can provide you with information about Toronto. Toronto is the capital city of the province of Ontario, Canada. It is the largest city in Canada and one of the most multicultural cities in the world. Known for its diverse population, vibrant arts scene, and thriving business community, Toronto offers a wide range of attractions and experiences.\\n\\nToronto is home to iconic landmarks such as the CN Tower, which offers breathtaking views of the city, and the Royal Ontario Museum, which houses an extensive collection of art, culture, and natural history. The city also boasts beautiful waterfront areas, including the Harbourfront Centre and the Toronto Islands, where visitors can enjoy outdoor activities and scenic views.\\n\\nIn terms of culture, Toronto hosts numerous festivals throughout the year, including the Toronto International Film Festival, Caribana, and Nuit Blanche. The city is also known for its world-class dining scene, offering a diverse range of cuisines from around the globe.\\n\\nToronto is a major economic hub, with a strong presence in industries such as finance, technology, and healthcare. It is home to the Toronto Stock Exchange and several multinational corporations. The city's robust public transportation system, including the TTC subway and streetcar network, makes it easy to navigate and explore.\\n\\nWhether you're interested in exploring its cultural attractions, enjoying its culinary delights, or experiencing its vibrant nightlife, Toronto has something to offer for everyone. How can I assist you further in discovering more about Toronto?\",\n",
      "  \"tool_names\": [\"Toronto\"]\n",
      "}\n",
      "Got output: Agent created successfully.\n",
      "========================\n"
     ]
    },
    {
     "data": {
      "text/plain": [
       "Response(response='The agent has been successfully created. It can provide detailed information about Toronto, including its landmarks, culture, economy, and transportation.', source_nodes=[], metadata=None)"
      ]
     },
     "execution_count": null,
     "metadata": {},
     "output_type": "execute_result"
    }
   ],
   "source": [
    "builder_agent.query(\"Build an agent that can tell me about Toronto.\")"
   ]
  },
  {
   "cell_type": "code",
   "execution_count": null,
   "id": "ee65b244-a6f0-447f-a88d-b7cbdfe8a74a",
   "metadata": {},
   "outputs": [],
   "source": [
    "city_agent = agent_cache[\"agent\"]"
   ]
  },
  {
   "cell_type": "code",
   "execution_count": null,
   "id": "1c66eea2-21a9-4e3d-a3a2-f4219476903e",
   "metadata": {},
   "outputs": [
    {
     "name": "stdout",
     "output_type": "stream",
     "text": [
      "=== Calling Function ===\n",
      "Calling function: Toronto with args: {\n",
      "  \"input\": \"parks in Toronto\"\n",
      "}\n",
      "Got output: Toronto has a wide variety of public parks and spaces. Some of the downtown parks include Allan Gardens, Christie Pits, Grange Park, Little Norway Park, Moss Park, Queen's Park, Riverdale Park and Trinity Bellwoods Park. There are also two large parks on the waterfront south of downtown: Tommy Thompson Park and the Toronto Islands. Other large parks managed by the city in the outer areas include High Park, Humber Bay Park, Centennial Park, Downsview Park, Guild Park and Gardens, Sunnybrook Park and Morningside Park. Toronto also has parts of Rouge National Urban Park, the largest urban park in North America, which is managed by Parks Canada.\n",
      "========================\n",
      "Toronto is home to a variety of parks, offering a mix of natural beauty, recreational activities, and cultural experiences. Here are some of the notable parks in Toronto:\n",
      "\n",
      "1. **Allan Gardens**: Located downtown, this park features a conservatory with six greenhouses showcasing rare botanical plants.\n",
      "\n",
      "2. **Christie Pits**: Known for its outdoor pool and artificial ice rink, this park is a popular spot for sports and leisure.\n",
      "\n",
      "3. **Grange Park**: This park is located in the heart of the city and offers a playground, a splash pad, and a dog off-leash area.\n",
      "\n",
      "4. **Little Norway Park**: Overlooking the waterfront, this park features a playground, a wading pool, and a baseball diamond.\n",
      "\n",
      "5. **Moss Park**: This downtown park has a large sports field, a playground, and a splash pad.\n",
      "\n",
      "6. **Queen's Park**: This urban park is home to the Ontario Legislative Building and several monuments.\n",
      "\n",
      "7. **Riverdale Park**: Offering panoramic views of downtown Toronto, this park has sports fields, a swimming pool, and a large off-leash dog area.\n",
      "\n",
      "8. **Trinity Bellwoods Park**: This popular park features a variety of recreational facilities, including sports fields, a wading pool, and a children's playground.\n",
      "\n",
      "9. **Tommy Thompson Park**: Located on the waterfront, this park is a popular spot for bird watching and nature walks.\n",
      "\n",
      "10. **Toronto Islands**: This group of small islands offers beaches, picnic areas, and canoe rentals.\n",
      "\n",
      "11. **High Park**: Toronto's largest public park, featuring hiking trails, sports facilities, a beautiful lakefront, a dog park, a zoo, and several playgrounds.\n",
      "\n",
      "12. **Humber Bay Park**: This waterfront park offers stunning views of the Toronto skyline, a butterfly habitat, and a network of trails.\n",
      "\n",
      "13. **Centennial Park**: One of Toronto's busiest parks, featuring a conservatory, a ski hill, a golf centre, and a multipurpose sports field.\n",
      "\n",
      "14. **Downsview Park**: Once a military base, now a dynamic urban park with sports fields, a pond, and a forested area.\n",
      "\n",
      "15. **Guild Park and Gardens**: Known for its collection of salvaged architectural pieces, this park offers a unique blend of nature and culture.\n",
      "\n",
      "16. **Sunnybrook Park**: This park offers a variety of sports fields, horse stables, and a dog off-leash area.\n",
      "\n",
      "17. **Morningside Park**: One of Toronto's largest parks, featuring picnic areas, walking trails, and a creek.\n",
      "\n",
      "18. **Rouge National Urban Park**: Managed by Parks Canada, this is the largest urban park in North America, offering a mix of wilderness, farmland, and historical sites.\n"
     ]
    }
   ],
   "source": [
    "response = city_agent.query(\"Tell me about the parks in Toronto\")\n",
    "print(str(response))"
   ]
  }
 ],
 "metadata": {
  "kernelspec": {
   "display_name": "llama_index_v2",
   "language": "python",
   "name": "llama_index_v2"
  },
  "language_info": {
   "codemirror_mode": {
    "name": "ipython",
    "version": 3
   },
   "file_extension": ".py",
   "mimetype": "text/x-python",
   "name": "python",
   "nbconvert_exporter": "python",
   "pygments_lexer": "ipython3"
  }
 },
 "nbformat": 4,
 "nbformat_minor": 5
}
