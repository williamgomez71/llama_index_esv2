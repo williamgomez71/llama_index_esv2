{
 "cells": [
  {
   "attachments": {},
   "cell_type": "markdown",
   "id": "2d202140",
   "metadata": {},
   "source": [
    "# Example of using sentence splitter chunking\n",
    "Compare the diff of splitting_1.txt and splitting_2.txt"
   ]
  },
  {
   "cell_type": "code",
   "execution_count": null,
   "id": "0a23c1a8-71ea-4b6d-ae42-5c1cf4014dff",
   "metadata": {},
   "outputs": [],
   "source": [
    "from llama_index.node_parser import TokenTextSplitter, LangchainNodeParser\n",
    "from llama_index import SimpleDirectoryReader, Document, get_tokenizer\n",
    "from langchain.text_splitter import (\n",
    "    NLTKTextSplitter,\n",
    "    SpacyTextSplitter,\n",
    "    RecursiveCharacterTextSplitter,\n",
    ")\n",
    "\n",
    "document = SimpleDirectoryReader(\"data\").load_data()[0]\n",
    "text_parser = TokenTextSplitter()  # use default settings\n",
    "text_chunks = text_parser.split_text(document.text)\n",
    "doc_chunks = [Document(text=t) for t in text_chunks]\n",
    "tokenizer = get_tokenizer()\n",
    "with open(\"splitting_1.txt\", \"w\") as f:\n",
    "    for idx, doc in enumerate(doc_chunks):\n",
    "        f.write(\n",
    "            \"\\n-------\\n\\n{}. Size: {} tokens\\n\".format(idx, len(tokenizer(doc.text)))\n",
    "            + doc.text\n",
    "        )\n",
    "\n",
    "from llama_index.node_parser import SentenceSplitter\n",
    "\n",
    "sentence_parser = SentenceSplitter()\n",
    "text_chunks = sentence_parser.split_text(document.text)\n",
    "doc_chunks = [Document(text=t) for t in text_chunks]\n",
    "with open(\"splitting_2.txt\", \"w\") as f:\n",
    "    for idx, doc in enumerate(doc_chunks):\n",
    "        f.write(\n",
    "            \"\\n-------\\n\\n{}. Size: {} tokens\\n\".format(idx, len(tokenizer(doc.text)))\n",
    "            + doc.text\n",
    "        )\n",
    "\n",
    "nltk_parser = LangchainNodeParser(NLTKTextSplitter())\n",
    "text_chunks = nltk_parser.split_text(document.text)\n",
    "doc_chunks = [Document(text=t) for t in text_chunks]\n",
    "tokenizer = get_tokenizer()\n",
    "with open(\"splitting_3.txt\", \"w\") as f:\n",
    "    for idx, doc in enumerate(doc_chunks):\n",
    "        f.write(\n",
    "            \"\\n-------\\n\\n{}. Size: {} tokens\\n\".format(idx, len(tokenizer(doc.text)))\n",
    "            + doc.text\n",
    "        )"
   ]
  },
  {
   "attachments": {},
   "cell_type": "markdown",
   "id": "7e62ef7d",
   "metadata": {},
   "source": [
    "## Testing with Chinese"
   ]
  },
  {
   "cell_type": "code",
   "execution_count": null,
   "id": "44711ded",
   "metadata": {},
   "outputs": [],
   "source": [
    "from llama_index.text_splitter import SentenceSplitter\n",
    "from llama_index.schema import Document\n",
    "from llama_index.indices.service_context import ServiceContext\n",
    "from llama_index.indices.vector_store import VectorStoreIndex\n",
    "import wikipedia"
   ]
  },
  {
   "cell_type": "code",
   "execution_count": null,
   "id": "8e1262b9",
   "metadata": {},
   "outputs": [],
   "source": [
    "sentence_parser = SentenceSplitter()\n",
    "wikipedia.set_lang(\"zh\")\n",
    "page = wikipedia.page(\"美国\", auto_suggest=True).content\n",
    "sentence_parser.split_text(page)"
   ]
  },
  {
   "cell_type": "code",
   "execution_count": null,
   "id": "78dc563c",
   "metadata": {},
   "outputs": [],
   "source": [
    "text_splitter = SentenceSplitter()\n",
    "service_context = ServiceContext.from_defaults(text_splitter=text_splitter)\n",
    "documents = []\n",
    "documents.append(Document(text=page))\n",
    "index = VectorStoreIndex.from_documents(documents, service_context=service_context)"
   ]
  }
 ],
 "metadata": {
  "kernelspec": {
   "display_name": ".venv",
   "language": "python",
   "name": "python3"
  },
  "language_info": {
   "codemirror_mode": {
    "name": "ipython",
    "version": 3
   },
   "file_extension": ".py",
   "mimetype": "text/x-python",
   "name": "python",
   "nbconvert_exporter": "python",
   "pygments_lexer": "ipython3"
  }
 },
 "nbformat": 4,
 "nbformat_minor": 5
}
